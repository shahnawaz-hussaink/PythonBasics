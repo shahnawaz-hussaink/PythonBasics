{
  "nbformat": 4,
  "nbformat_minor": 0,
  "metadata": {
    "colab": {
      "provenance": []
    },
    "kernelspec": {
      "name": "python3",
      "display_name": "Python 3"
    },
    "language_info": {
      "name": "python"
    }
  },
  "cells": [
    {
      "cell_type": "markdown",
      "source": [
        "**Python Basic Questions**"
      ],
      "metadata": {
        "id": "2uoVNyPcApuX"
      }
    },
    {
      "cell_type": "markdown",
      "source": [
        "Q1. What is Python, and why is it popular?\n"
      ],
      "metadata": {
        "id": "3QXTW9QTA0DT"
      }
    },
    {
      "cell_type": "markdown",
      "source": [
        "\n",
        "Python is a simple,powerful programming language. It’s popular because it’s easy to learn."
      ],
      "metadata": {
        "id": "211_kbf4BPZ3"
      }
    },
    {
      "cell_type": "markdown",
      "source": [
        "Q2. What is an interpreter in Python?"
      ],
      "metadata": {
        "id": "PFn5fvrXBUcv"
      }
    },
    {
      "cell_type": "markdown",
      "source": [
        "\n",
        "It’s a program that reads and runs Python code line by line."
      ],
      "metadata": {
        "id": "hfJTcemYBqqI"
      }
    },
    {
      "cell_type": "markdown",
      "source": [
        "Q3 What are pre-defined keywords in Python?"
      ],
      "metadata": {
        "id": "FTQTcd5HBvTP"
      }
    },
    {
      "cell_type": "markdown",
      "source": [
        "They are reserved words like print, if, for, etc., that have special meanings in Python."
      ],
      "metadata": {
        "id": "Hhrtf69aByZL"
      }
    },
    {
      "cell_type": "markdown",
      "source": [
        "Q4. What is mutability in Python?"
      ],
      "metadata": {
        "id": "k9YjAzqpB8w-"
      }
    },
    {
      "cell_type": "markdown",
      "source": [
        "Mutability means the ability of an object to be changed after creation."
      ],
      "metadata": {
        "id": "VMgF0KSCB_38"
      }
    },
    {
      "cell_type": "markdown",
      "source": [
        "Q6. Why are lists mutable, but tuples are immutable?"
      ],
      "metadata": {
        "id": "0pt4k9-LCD96"
      }
    },
    {
      "cell_type": "markdown",
      "source": [
        "Lists can be changed (add/remove items); tuples can't—they are fixed once create"
      ],
      "metadata": {
        "id": "sxr9QCKnCFdv"
      }
    },
    {
      "cell_type": "markdown",
      "source": [
        "Q7. What is the difference between “==” and “is” operators in Python?"
      ],
      "metadata": {
        "id": "BSTHUvuNCHvE"
      }
    },
    {
      "cell_type": "markdown",
      "source": [
        "== checks if values are equal, is checks if both refer to the same object."
      ],
      "metadata": {
        "id": "if2pv9NZCK8y"
      }
    },
    {
      "cell_type": "markdown",
      "source": [
        "Q8. What are logical operators in Python?"
      ],
      "metadata": {
        "id": "E3drfhwmCPdW"
      }
    },
    {
      "cell_type": "markdown",
      "source": [
        "They are and, or, and not—used to combine conditions."
      ],
      "metadata": {
        "id": "Y-DHmaAECRnE"
      }
    },
    {
      "cell_type": "markdown",
      "source": [
        "Q9. What is type casting in Python?"
      ],
      "metadata": {
        "id": "kIjI4THtCUf9"
      }
    },
    {
      "cell_type": "markdown",
      "source": [
        "It’s converting one data type to another, like int(\"10\")."
      ],
      "metadata": {
        "id": "qcZduoLKCbuu"
      }
    },
    {
      "cell_type": "markdown",
      "source": [
        "Q10. What is the difference between implicit and explicit type casting?"
      ],
      "metadata": {
        "id": "_fHFrFVdChkt"
      }
    },
    {
      "cell_type": "markdown",
      "source": [
        "Implicit happens automatically; explicit is done manually using functions like int() or float()."
      ],
      "metadata": {
        "id": "4Egbm5q7CkIw"
      }
    },
    {
      "cell_type": "markdown",
      "source": [
        "Q11. What is the purpose of conditional statements in Python?"
      ],
      "metadata": {
        "id": "5_YXjCExCmIG"
      }
    },
    {
      "cell_type": "markdown",
      "source": [
        "They let programs make decisions using if, elif, and else."
      ],
      "metadata": {
        "id": "W6zXZjdoCoVS"
      }
    },
    {
      "cell_type": "markdown",
      "source": [
        "Q12. How does the elif statement work?"
      ],
      "metadata": {
        "id": "TzmLX1YICrFk"
      }
    },
    {
      "cell_type": "markdown",
      "source": [
        "It checks another condition if the if condition is false."
      ],
      "metadata": {
        "id": "Dreti5KJCuO4"
      }
    },
    {
      "cell_type": "markdown",
      "source": [
        "Q13. What is the difference between for and while loops?"
      ],
      "metadata": {
        "id": "q0A5qmoBCwM6"
      }
    },
    {
      "cell_type": "markdown",
      "source": [
        "for is used when the number of iterations is known; while is used when the condition is based on logic."
      ],
      "metadata": {
        "id": "65bIHUtvCzGq"
      }
    },
    {
      "cell_type": "markdown",
      "source": [
        "Q14. Describe a scenario where a while loop is more suitable than a for loop."
      ],
      "metadata": {
        "id": "iOvzEU9sC1Md"
      }
    },
    {
      "cell_type": "markdown",
      "source": [
        "where we don’t know how many times loop will run.\n",
        "\n",
        "---\n",
        "\n"
      ],
      "metadata": {
        "id": "G8dSd_4WC3-E"
      }
    },
    {
      "cell_type": "markdown",
      "source": [
        "**Practical Questions**\n"
      ],
      "metadata": {
        "id": "OEFLlWCSEaFw"
      }
    },
    {
      "cell_type": "markdown",
      "source": [
        "Q1. Write a Python program to print \"Hello, World!\""
      ],
      "metadata": {
        "id": "K0rrQ2tPEmFP"
      }
    },
    {
      "cell_type": "code",
      "source": [
        "print(\"Hello world\")"
      ],
      "metadata": {
        "id": "PWjcn0zlEsUt"
      },
      "execution_count": null,
      "outputs": []
    },
    {
      "cell_type": "markdown",
      "source": [
        "Q2. 2. Write a Python program that displays your name and age."
      ],
      "metadata": {
        "id": "ZbLWI10VEumf"
      }
    },
    {
      "cell_type": "code",
      "source": [
        "name = \"Shahnawaz Hussain\"\n",
        "age = 19\n",
        "print(name,age)"
      ],
      "metadata": {
        "id": "z-RI7_XUExVA"
      },
      "execution_count": null,
      "outputs": []
    },
    {
      "cell_type": "markdown",
      "source": [
        "Q3  Write code to print all the pre-defined keywords in Python using the keyword library."
      ],
      "metadata": {
        "id": "BtBc5Ir1E5XE"
      }
    },
    {
      "cell_type": "code",
      "source": [
        "help('keywords')"
      ],
      "metadata": {
        "id": "7YiKLAgHFCPi"
      },
      "execution_count": null,
      "outputs": []
    },
    {
      "cell_type": "markdown",
      "source": [
        "Q4. Write a program that checks if a given word is a Python keyword."
      ],
      "metadata": {
        "id": "VPTcdUUjFFWx"
      }
    },
    {
      "cell_type": "code",
      "source": [
        "import keyword\n",
        "word = \"for\"\n",
        "print(keyword.iskeyword(word))"
      ],
      "metadata": {
        "id": "w37lByeyFJTa"
      },
      "execution_count": null,
      "outputs": []
    },
    {
      "cell_type": "markdown",
      "source": [
        "Q5. Create a list and tuple in Python, and demonstrate how attempting to change an element works differently for each."
      ],
      "metadata": {
        "id": "vWgPHWZ7FMY0"
      }
    },
    {
      "cell_type": "code",
      "source": [
        "my_list = [1, 2, 3]\n",
        "my_tuple = (1, 2, 3)\n",
        "\n",
        "my_list[0] = 10\n",
        "\n",
        "print(\"List:\", my_list)\n",
        "print(\"Tuple:\", my_tuple)\n"
      ],
      "metadata": {
        "id": "G0c7zqzoFOzM"
      },
      "execution_count": null,
      "outputs": []
    },
    {
      "cell_type": "markdown",
      "source": [
        "Q6. Write a function to demonstrate the behavior of mutable and immutable arguments."
      ],
      "metadata": {
        "id": "1KexmqiAFUwN"
      }
    },
    {
      "cell_type": "code",
      "source": [
        "def change_list(lst):\n",
        "    lst[0] = 100\n",
        "\n",
        "def change_number(num):\n",
        "    num = 100\n",
        "\n",
        "a = [1, 2, 3]\n",
        "b = 10\n",
        "\n",
        "change_list(a)\n",
        "change_number(b)\n",
        "\n",
        "print(\"List:\", a)\n",
        "print(\"Number:\", b)\n"
      ],
      "metadata": {
        "id": "RoCUC35FFXG-"
      },
      "execution_count": null,
      "outputs": []
    },
    {
      "cell_type": "markdown",
      "source": [
        "Q7. Write a program that performs basic arithmetic operations on two user-input numbers."
      ],
      "metadata": {
        "id": "1P_hFLEYFd7K"
      }
    },
    {
      "cell_type": "code",
      "source": [
        "a = int(input(\"Enter first number: \"))\n",
        "b = int(input(\"Enter second number: \"))\n",
        "\n",
        "print(\"Sum:\", a + b)\n",
        "print(\"Difference:\", a - b)\n",
        "print(\"Product:\", a * b)\n",
        "print(\"Quotient:\", a / b)\n"
      ],
      "metadata": {
        "id": "bSW5sD2oFenu"
      },
      "execution_count": null,
      "outputs": []
    },
    {
      "cell_type": "markdown",
      "source": [
        "Q8. Write a program to demonstrate the use of logical operators."
      ],
      "metadata": {
        "id": "qCW_0q-LFgI1"
      }
    },
    {
      "cell_type": "code",
      "source": [
        "a = 5\n",
        "b = 10\n",
        "\n",
        "print(a > 3 and b < 20)   # True\n",
        "print(a < 3 or b > 5)     # True\n",
        "print(not(a > b))         # True\n"
      ],
      "metadata": {
        "id": "nAcb1uKlFisI"
      },
      "execution_count": null,
      "outputs": []
    },
    {
      "cell_type": "markdown",
      "source": [
        "Q9. Write a Python program to convert user input from string to integer, float, and boolean types."
      ],
      "metadata": {
        "id": "iDIpel-5FkOT"
      }
    },
    {
      "cell_type": "code",
      "source": [
        "s = input(\"Enter a number: \")\n",
        "\n",
        "print(int(s))\n",
        "print(float(s))\n",
        "print(bool(s))\n"
      ],
      "metadata": {
        "id": "rQs1c5qsFm6s"
      },
      "execution_count": null,
      "outputs": []
    },
    {
      "cell_type": "markdown",
      "source": [
        "Q10. Write code to demonstrate type casting with list elements."
      ],
      "metadata": {
        "id": "MWZ42sG4FnUN"
      }
    },
    {
      "cell_type": "code",
      "source": [
        "lst = ['1', '2', '3']\n",
        "new_lst = [int(x) for x in lst]\n",
        "\n",
        "print(new_lst)\n"
      ],
      "metadata": {
        "id": "Nw9cT40zFpH1"
      },
      "execution_count": null,
      "outputs": []
    },
    {
      "cell_type": "markdown",
      "source": [
        "Q11. Write a program that checks if a number is positive, negative, or zero."
      ],
      "metadata": {
        "id": "sPV8dNNCFrs8"
      }
    },
    {
      "cell_type": "code",
      "source": [
        "n = int(input(\"Enter a number: \"))\n",
        "\n",
        "if n > 0:\n",
        "    print(\"Positive\")\n",
        "elif n < 0:\n",
        "    print(\"Negative\")\n",
        "else:\n",
        "    print(\"Zero\")\n"
      ],
      "metadata": {
        "id": "iZDYZqXsFtry"
      },
      "execution_count": null,
      "outputs": []
    },
    {
      "cell_type": "markdown",
      "source": [
        "Q12. Write a for loop to print numbers from 1 to 10."
      ],
      "metadata": {
        "id": "j3l2WQ1PFwTP"
      }
    },
    {
      "cell_type": "code",
      "source": [
        "for i in range(1, 11):\n",
        "    print(i)"
      ],
      "metadata": {
        "id": "y70fUJrbFyPM"
      },
      "execution_count": null,
      "outputs": []
    },
    {
      "cell_type": "markdown",
      "source": [
        "Q13. Write a Python program to find the sum of all even numbers between 1 and 50."
      ],
      "metadata": {
        "id": "OYNB4sHiF0Ea"
      }
    },
    {
      "cell_type": "markdown",
      "source": [
        "total = 0\n",
        "for i in range(2, 51, 2):\n",
        "    total += i\n",
        "\n",
        "print(\"Sum of even numbers:\", total)\n"
      ],
      "metadata": {
        "id": "7siMLCS6F3Ej"
      }
    },
    {
      "cell_type": "markdown",
      "source": [
        "Q14. Write a program to reverse a string using a while loop."
      ],
      "metadata": {
        "id": "ZTFXLSoqF4nB"
      }
    },
    {
      "cell_type": "code",
      "source": [
        "s = \"Shahnawaz\"\n",
        "i = len(s) - 1\n",
        "rev = \"\"\n",
        "\n",
        "while i >= 0:\n",
        "    rev += s[i]\n",
        "    i -= 1\n",
        "\n",
        "print(\"Reversed:\", rev)\n"
      ],
      "metadata": {
        "id": "NdBNC9i0F6vN"
      },
      "execution_count": null,
      "outputs": []
    },
    {
      "cell_type": "markdown",
      "source": [
        "Q15. Write a Python program to calculate the factorial of a number provided by the user using a while loop."
      ],
      "metadata": {
        "id": "iQslmConF-lb"
      }
    },
    {
      "cell_type": "code",
      "source": [
        "n = int(input(\"Enter a number: \"))\n",
        "fact = 1\n",
        "i = 1\n",
        "\n",
        "while i <= n:\n",
        "    fact *= i\n",
        "    i += 1\n",
        "\n",
        "print(\"Factorial:\", fact)\n"
      ],
      "metadata": {
        "id": "KIknvyM6GAeH"
      },
      "execution_count": null,
      "outputs": []
    }
  ]
}